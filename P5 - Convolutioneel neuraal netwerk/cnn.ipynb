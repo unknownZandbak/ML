{
 "cells": [
  {
   "cell_type": "markdown",
   "metadata": {},
   "source": [
    "# P5 - Convolutioneel neuraal netwerk"
   ]
  },
  {
   "cell_type": "code",
   "execution_count": 34,
   "metadata": {},
   "outputs": [],
   "source": [
    "import numpy as np\n",
    "import tensorflow as tf\n",
    "from tensorflow.keras import utils\n",
    "from tensorflow.keras.layers import Conv2D, MaxPool2D, Flatten, Dense, Dropout, Activation, BatchNormalization\n",
    "from tensorflow.keras.datasets import cifar10\n",
    "from tensorflow.keras.models import Sequential\n"
   ]
  },
  {
   "cell_type": "markdown",
   "metadata": {},
   "source": [
    "## Data preparation"
   ]
  },
  {
   "cell_type": "code",
   "execution_count": 2,
   "metadata": {},
   "outputs": [
    {
     "name": "stdout",
     "output_type": "stream",
     "text": [
      "Downloading data from https://www.cs.toronto.edu/~kriz/cifar-10-python.tar.gz\n",
      "170500096/170498071 [==============================] - 13s 0us/step\n",
      "170508288/170498071 [==============================] - 13s 0us/step\n",
      "x_train shape (50000, 32, 32, 3)\n",
      "y_train shape (50000, 1)\n",
      "x_test shape (10000, 32, 32, 3)\n",
      "y_test shape (10000, 1)\n"
     ]
    }
   ],
   "source": [
    "(X_train, y_train), (X_test, y_test) = cifar10.load_data()\n",
    "\n",
    "print(\"x_train shape\", X_train.shape)\n",
    "print(\"y_train shape\", y_train.shape)\n",
    "print(\"x_test shape\", X_test.shape)\n",
    "print(\"y_test shape\", y_test.shape)"
   ]
  },
  {
   "cell_type": "markdown",
   "metadata": {},
   "source": [
    "Voor one hot encoding uit over de target values, en laten we ook de dataset normaliseren"
   ]
  },
  {
   "cell_type": "code",
   "execution_count": 3,
   "metadata": {},
   "outputs": [],
   "source": [
    "# One hot encodign over de targets heen\n",
    "Y_train = utils.to_categorical(y_train, 10)\n",
    "Y_test = utils.to_categorical(y_test, 10)\n",
    "\n",
    "# normaliseren van de data\n",
    "X_train = utils.normalize(X_train)\n",
    "X_test = utils.normalize(X_test)"
   ]
  },
  {
   "cell_type": "markdown",
   "metadata": {},
   "source": [
    "## Modelling"
   ]
  },
  {
   "cell_type": "markdown",
   "metadata": {},
   "source": [
    "Voor het berekenen van de output dimension kunnen we de volgende formule gebruiken.\n",
    "\n",
    "    Output height = (Input height + padding height top + padding height bottom - kernel height) / (stride height) + 1 \n",
    "    \n",
    "    Output width = (Output width + padding width right + padding width left - kernel width) / (stride width) + 1\n",
    "\n",
    "Aangezien het voor dit dataset altijd uitkomt naar een vierkant hoeven we maar 1 te gebruiken om de size te weten."
   ]
  },
  {
   "cell_type": "code",
   "execution_count": 56,
   "metadata": {},
   "outputs": [],
   "source": [
    "cnn = Sequential()\n",
    "\n",
    "# Layer 1 (CN)\n",
    "# mijn hoop is door de size voor nu nog het zelfe de te houden dat we meer detail kunnen opvangen.\n",
    "cnn.add(Conv2D(filters=32, kernel_size=(3, 3), padding=\"same\", input_shape=(32,32,3)))\n",
    "cnn.add(BatchNormalization(axis=-1))\n",
    "cnn.add(Activation(\"relu\"))\n",
    "\n",
    "\n",
    "# Layer 2 (CN)\n",
    "cnn.add(Conv2D(filters=32, kernel_size=(3, 3), strides=(2, 2)))\n",
    "cnn.add(BatchNormalization(axis=-1))\n",
    "cnn.add(Activation(\"relu\"))\n",
    "\n",
    "# Layer 3 (CN)\n",
    "cnn.add(Conv2D(filters=16, kernel_size=(3, 3)))\n",
    "cnn.add(BatchNormalization(axis=-1))\n",
    "cnn.add(Activation(\"relu\"))\n",
    "cnn.add(MaxPool2D(pool_size=(2, 2)))\n",
    "cnn.add(Flatten())\n",
    "\n",
    "# Layer 4 (FC)\n",
    "cnn.add(Dense(512))\n",
    "cnn.add(BatchNormalization(axis=-1))\n",
    "cnn.add(Activation(\"relu\"))\n",
    "\n",
    "# Layer 5 (FC)\n",
    "cnn.add(Dense(200))\n",
    "cnn.add(Activation(\"relu\"))\n",
    "\n",
    "# Layer 6 (FC)\n",
    "cnn.add(Dense(10))\n",
    "cnn.add(Activation(\"softmax\"))\n"
   ]
  },
  {
   "cell_type": "markdown",
   "metadata": {},
   "source": [
    "### Summary\n",
    "Hieronder kunnen we dan de summary zien van het gehele netwerk"
   ]
  },
  {
   "cell_type": "code",
   "execution_count": 57,
   "metadata": {},
   "outputs": [
    {
     "name": "stdout",
     "output_type": "stream",
     "text": [
      "Model: \"sequential_13\"\n",
      "_________________________________________________________________\n",
      " Layer (type)                Output Shape              Param #   \n",
      "=================================================================\n",
      " conv2d_35 (Conv2D)          (None, 32, 32, 32)        896       \n",
      "                                                                 \n",
      " batch_normalization_22 (Bat  (None, 32, 32, 32)       128       \n",
      " chNormalization)                                                \n",
      "                                                                 \n",
      " activation_67 (Activation)  (None, 32, 32, 32)        0         \n",
      "                                                                 \n",
      " conv2d_36 (Conv2D)          (None, 15, 15, 32)        9248      \n",
      "                                                                 \n",
      " batch_normalization_23 (Bat  (None, 15, 15, 32)       128       \n",
      " chNormalization)                                                \n",
      "                                                                 \n",
      " activation_68 (Activation)  (None, 15, 15, 32)        0         \n",
      "                                                                 \n",
      " conv2d_37 (Conv2D)          (None, 13, 13, 16)        4624      \n",
      "                                                                 \n",
      " batch_normalization_24 (Bat  (None, 13, 13, 16)       64        \n",
      " chNormalization)                                                \n",
      "                                                                 \n",
      " activation_69 (Activation)  (None, 13, 13, 16)        0         \n",
      "                                                                 \n",
      " max_pooling2d_16 (MaxPoolin  (None, 6, 6, 16)         0         \n",
      " g2D)                                                            \n",
      "                                                                 \n",
      " flatten_10 (Flatten)        (None, 576)               0         \n",
      "                                                                 \n",
      " dense_35 (Dense)            (None, 512)               295424    \n",
      "                                                                 \n",
      " batch_normalization_25 (Bat  (None, 512)              2048      \n",
      " chNormalization)                                                \n",
      "                                                                 \n",
      " activation_70 (Activation)  (None, 512)               0         \n",
      "                                                                 \n",
      " dense_36 (Dense)            (None, 200)               102600    \n",
      "                                                                 \n",
      " activation_71 (Activation)  (None, 200)               0         \n",
      "                                                                 \n",
      " dense_37 (Dense)            (None, 10)                2010      \n",
      "                                                                 \n",
      " activation_72 (Activation)  (None, 10)                0         \n",
      "                                                                 \n",
      "=================================================================\n",
      "Total params: 417,170\n",
      "Trainable params: 415,986\n",
      "Non-trainable params: 1,184\n",
      "_________________________________________________________________\n"
     ]
    }
   ],
   "source": [
    "cnn.summary(\n",
    ")"
   ]
  },
  {
   "cell_type": "markdown",
   "metadata": {},
   "source": [
    "### Compilen\n",
    "Ook hier moeten we het model gaan compilen met een loss function en optimizer."
   ]
  },
  {
   "cell_type": "code",
   "execution_count": 58,
   "metadata": {},
   "outputs": [],
   "source": [
    "cnn.compile(loss='categorical_crossentropy', optimizer='adam', metrics=['accuracy'])"
   ]
  },
  {
   "cell_type": "markdown",
   "metadata": {},
   "source": [
    "### Fitten\n",
    "Hierna kunnen we het model gaan fitten. De fit functie kent een aantal belangrijke parameters:"
   ]
  },
  {
   "cell_type": "code",
   "execution_count": 59,
   "metadata": {},
   "outputs": [
    {
     "name": "stdout",
     "output_type": "stream",
     "text": [
      "Epoch 1/50\n",
      "782/782 [==============================] - 18s 22ms/step - loss: 1.5623 - accuracy: 0.4418\n",
      "Epoch 2/50\n",
      "782/782 [==============================] - 17s 22ms/step - loss: 1.2542 - accuracy: 0.5581\n",
      "Epoch 3/50\n",
      "782/782 [==============================] - 17s 22ms/step - loss: 1.0900 - accuracy: 0.6142\n",
      "Epoch 4/50\n",
      "782/782 [==============================] - 17s 22ms/step - loss: 0.9617 - accuracy: 0.6614\n",
      "Epoch 5/50\n",
      "782/782 [==============================] - 17s 22ms/step - loss: 0.8402 - accuracy: 0.7037\n",
      "Epoch 6/50\n",
      "782/782 [==============================] - 17s 22ms/step - loss: 0.7273 - accuracy: 0.7448\n",
      "Epoch 7/50\n",
      "782/782 [==============================] - 17s 22ms/step - loss: 0.6123 - accuracy: 0.7864\n",
      "Epoch 8/50\n",
      "782/782 [==============================] - 17s 22ms/step - loss: 0.5194 - accuracy: 0.8157\n",
      "Epoch 9/50\n",
      "782/782 [==============================] - 18s 22ms/step - loss: 0.4301 - accuracy: 0.8503\n",
      "Epoch 10/50\n",
      "782/782 [==============================] - 18s 23ms/step - loss: 0.3588 - accuracy: 0.8747\n",
      "Epoch 11/50\n",
      "782/782 [==============================] - 17s 22ms/step - loss: 0.3031 - accuracy: 0.8938\n",
      "Epoch 12/50\n",
      "782/782 [==============================] - 17s 22ms/step - loss: 0.2657 - accuracy: 0.9085\n",
      "Epoch 13/50\n",
      "782/782 [==============================] - 17s 22ms/step - loss: 0.2303 - accuracy: 0.9207\n",
      "Epoch 14/50\n",
      "782/782 [==============================] - 18s 22ms/step - loss: 0.2129 - accuracy: 0.9280\n",
      "Epoch 15/50\n",
      "782/782 [==============================] - 17s 22ms/step - loss: 0.1937 - accuracy: 0.9325\n",
      "Epoch 16/50\n",
      "782/782 [==============================] - 17s 22ms/step - loss: 0.1758 - accuracy: 0.9408\n",
      "Epoch 17/50\n",
      "782/782 [==============================] - 18s 22ms/step - loss: 0.1632 - accuracy: 0.9436\n",
      "Epoch 18/50\n",
      "782/782 [==============================] - 18s 22ms/step - loss: 0.1596 - accuracy: 0.9452\n",
      "Epoch 19/50\n",
      "782/782 [==============================] - 18s 22ms/step - loss: 0.1500 - accuracy: 0.9486\n",
      "Epoch 20/50\n",
      "782/782 [==============================] - 18s 22ms/step - loss: 0.1458 - accuracy: 0.9498\n",
      "Epoch 21/50\n",
      "782/782 [==============================] - 17s 22ms/step - loss: 0.1364 - accuracy: 0.9530\n",
      "Epoch 22/50\n",
      "782/782 [==============================] - 18s 22ms/step - loss: 0.1366 - accuracy: 0.9535\n",
      "Epoch 23/50\n",
      "782/782 [==============================] - 18s 22ms/step - loss: 0.1251 - accuracy: 0.9577\n",
      "Epoch 24/50\n",
      "782/782 [==============================] - 18s 23ms/step - loss: 0.1177 - accuracy: 0.9596\n",
      "Epoch 25/50\n",
      "782/782 [==============================] - 18s 22ms/step - loss: 0.1150 - accuracy: 0.9606\n",
      "Epoch 26/50\n",
      "782/782 [==============================] - 18s 23ms/step - loss: 0.1154 - accuracy: 0.9610\n",
      "Epoch 27/50\n",
      "782/782 [==============================] - 18s 23ms/step - loss: 0.1078 - accuracy: 0.9632\n",
      "Epoch 28/50\n",
      "782/782 [==============================] - 18s 23ms/step - loss: 0.1170 - accuracy: 0.9596\n",
      "Epoch 29/50\n",
      "782/782 [==============================] - 18s 23ms/step - loss: 0.1034 - accuracy: 0.9649\n",
      "Epoch 30/50\n",
      "782/782 [==============================] - 18s 22ms/step - loss: 0.0986 - accuracy: 0.9666\n",
      "Epoch 31/50\n",
      "782/782 [==============================] - 18s 22ms/step - loss: 0.1027 - accuracy: 0.9648\n",
      "Epoch 32/50\n",
      "782/782 [==============================] - 18s 22ms/step - loss: 0.0980 - accuracy: 0.9664\n",
      "Epoch 33/50\n",
      "782/782 [==============================] - 18s 22ms/step - loss: 0.0971 - accuracy: 0.9669\n",
      "Epoch 34/50\n",
      "782/782 [==============================] - 17s 22ms/step - loss: 0.0862 - accuracy: 0.9704\n",
      "Epoch 35/50\n",
      "782/782 [==============================] - 18s 22ms/step - loss: 0.0962 - accuracy: 0.9667\n",
      "Epoch 36/50\n",
      "782/782 [==============================] - 18s 22ms/step - loss: 0.0916 - accuracy: 0.9695\n",
      "Epoch 37/50\n",
      "782/782 [==============================] - 18s 22ms/step - loss: 0.0860 - accuracy: 0.9706\n",
      "Epoch 38/50\n",
      "782/782 [==============================] - 18s 22ms/step - loss: 0.0872 - accuracy: 0.9700\n",
      "Epoch 39/50\n",
      "782/782 [==============================] - 17s 22ms/step - loss: 0.0855 - accuracy: 0.9709\n",
      "Epoch 40/50\n",
      "782/782 [==============================] - 18s 22ms/step - loss: 0.0875 - accuracy: 0.9707\n",
      "Epoch 41/50\n",
      "782/782 [==============================] - 18s 22ms/step - loss: 0.0837 - accuracy: 0.9717\n",
      "Epoch 42/50\n",
      "782/782 [==============================] - 18s 22ms/step - loss: 0.0725 - accuracy: 0.9758\n",
      "Epoch 43/50\n",
      "782/782 [==============================] - 18s 22ms/step - loss: 0.0821 - accuracy: 0.9720\n",
      "Epoch 44/50\n",
      "782/782 [==============================] - 18s 22ms/step - loss: 0.0824 - accuracy: 0.9718\n",
      "Epoch 45/50\n",
      "782/782 [==============================] - 18s 22ms/step - loss: 0.0816 - accuracy: 0.9727\n",
      "Epoch 46/50\n",
      "782/782 [==============================] - 18s 22ms/step - loss: 0.0745 - accuracy: 0.9751\n",
      "Epoch 47/50\n",
      "782/782 [==============================] - 18s 22ms/step - loss: 0.0749 - accuracy: 0.9743\n",
      "Epoch 48/50\n",
      "782/782 [==============================] - 17s 22ms/step - loss: 0.0778 - accuracy: 0.9732\n",
      "Epoch 49/50\n",
      "782/782 [==============================] - 18s 22ms/step - loss: 0.0746 - accuracy: 0.9753\n",
      "Epoch 50/50\n",
      "782/782 [==============================] - 18s 22ms/step - loss: 0.0757 - accuracy: 0.9747\n"
     ]
    },
    {
     "data": {
      "text/plain": [
       "<keras.callbacks.History at 0x7f72ceff3220>"
      ]
     },
     "execution_count": 59,
     "metadata": {},
     "output_type": "execute_result"
    }
   ],
   "source": [
    "cnn.fit(X_train, Y_train, batch_size=64, epochs=50, verbose=1)"
   ]
  },
  {
   "cell_type": "markdown",
   "metadata": {},
   "source": [
    "## Stap 4. Evalueren\n",
    "\n",
    "Ook hier kunnen we kijken hoe goed de resultaten zijn."
   ]
  },
  {
   "cell_type": "code",
   "execution_count": 31,
   "metadata": {},
   "outputs": [
    {
     "name": "stdout",
     "output_type": "stream",
     "text": [
      "313/313 [==============================] - 1s 2ms/step - loss: 2.9148 - accuracy: 0.4486\n",
      "Test loss: 2.9148\n",
      "Test accuracy: 0.4486\n"
     ]
    }
   ],
   "source": [
    "loss, accuracy = cnn.evaluate(X_test, Y_test)\n",
    "print(f\"Test loss: {loss:.4f}\")\n",
    "print(f\"Test accuracy: {accuracy:.4f}\")"
   ]
  },
  {
   "cell_type": "code",
   "execution_count": null,
   "metadata": {},
   "outputs": [],
   "source": []
  }
 ],
 "metadata": {
  "interpreter": {
   "hash": "916dbcbb3f70747c44a77c7bcd40155683ae19c65e1c03b4aa3499c5328201f1"
  },
  "kernelspec": {
   "display_name": "Python 3.9.7 64-bit",
   "language": "python",
   "name": "python3"
  },
  "language_info": {
   "codemirror_mode": {
    "name": "ipython",
    "version": 3
   },
   "file_extension": ".py",
   "mimetype": "text/x-python",
   "name": "python",
   "nbconvert_exporter": "python",
   "pygments_lexer": "ipython3",
   "version": "3.10.3"
  },
  "orig_nbformat": 4
 },
 "nbformat": 4,
 "nbformat_minor": 2
}
