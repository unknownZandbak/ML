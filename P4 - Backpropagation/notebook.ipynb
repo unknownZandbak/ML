{
 "cells": [
  {
   "cell_type": "markdown",
   "metadata": {},
   "source": [
    "# P4 Back propagation"
   ]
  },
  {
   "cell_type": "code",
   "execution_count": 1,
   "metadata": {},
   "outputs": [],
   "source": [
    "from neuron import Neuron_network\n",
    "from sklearn.datasets import load_iris, load_digits\n",
    "from sklearn.model_selection import train_test_split"
   ]
  },
  {
   "cell_type": "markdown",
   "metadata": {},
   "source": [
    "## Identifying the iris data_set"
   ]
  },
  {
   "cell_type": "markdown",
   "metadata": {},
   "source": [
    "First of lets load the data set en prep it for use in our network "
   ]
  },
  {
   "cell_type": "code",
   "execution_count": 2,
   "metadata": {},
   "outputs": [],
   "source": [
    "iris_X, iris_y = load_iris(return_X_y=True)"
   ]
  },
  {
   "cell_type": "code",
   "execution_count": 3,
   "metadata": {},
   "outputs": [],
   "source": [
    "# One hot encoding for output layer\n",
    "new_y = []\n",
    "for i in range(len(iris_y)):\n",
    "    match iris_y[i]:\n",
    "        case 0:\n",
    "            new_y.append([1., 0., 0.])\n",
    "        case 1:\n",
    "            new_y.append([0., 1., 0.])\n",
    "        case 2:\n",
    "            new_y.append([0., 0., 1.])\n",
    "iris_y = new_y.copy()"
   ]
  },
  {
   "cell_type": "code",
   "execution_count": 4,
   "metadata": {},
   "outputs": [],
   "source": [
    "iris_X_train, iris_X_test, iris_y_train, iris_y_test = train_test_split(iris_X, iris_y, test_size=.2, random_state=8)"
   ]
  },
  {
   "cell_type": "markdown",
   "metadata": {},
   "source": [
    "Then we wan to initialize a network to train for identifying the iris data_set"
   ]
  },
  {
   "cell_type": "code",
   "execution_count": 5,
   "metadata": {},
   "outputs": [],
   "source": [
    "iris_nn = Neuron_network(4, [5, 5, 3])"
   ]
  },
  {
   "cell_type": "code",
   "execution_count": 6,
   "metadata": {},
   "outputs": [
    {
     "name": "stderr",
     "output_type": "stream",
     "text": [
      "Progress: 100%|██████████| 1500/1500 [00:09<00:00, 155.00 epoch/s]"
     ]
    },
    {
     "name": "stdout",
     "output_type": "stream",
     "text": [
      "MSE:\t0.00018188012737451983\n",
      "Accuracy:\t0.9690166666666666\n"
     ]
    },
    {
     "name": "stderr",
     "output_type": "stream",
     "text": [
      "\n"
     ]
    }
   ],
   "source": [
    "iris_nn.train(iris_X_train, iris_y_train, 1500)"
   ]
  },
  {
   "cell_type": "code",
   "execution_count": 7,
   "metadata": {},
   "outputs": [
    {
     "name": "stdout",
     "output_type": "stream",
     "text": [
      "MSE:\t2.0509316939053394e-05\n",
      "Accuracy:\t0.9\n"
     ]
    }
   ],
   "source": [
    "iris_nn.evaluate(iris_X_test, iris_y_test)"
   ]
  },
  {
   "cell_type": "markdown",
   "metadata": {},
   "source": [
    "Aangezien we dus gebrijk maaken van seudo random getallen voor de weights an bias bij het initialiseren kunnen we som in een zeer hoge local minimum terecht komen maar over het algemeen komt het netwerk altijd wel op een zeer goeie plek terecht.\\\n",
    "\\\n",
    "Dit effect is eerder te zien bij her runnen en trainen van de logic gates in de test.py file."
   ]
  },
  {
   "cell_type": "markdown",
   "metadata": {},
   "source": [
    "## Identifying the Digit dataset"
   ]
  },
  {
   "cell_type": "code",
   "execution_count": 8,
   "metadata": {},
   "outputs": [],
   "source": [
    "digits_X, digits_y = load_digits(return_X_y=True)"
   ]
  },
  {
   "cell_type": "code",
   "execution_count": 9,
   "metadata": {},
   "outputs": [],
   "source": [
    "# One hot encoding for output layer\n",
    "new_y = []\n",
    "for i in range(len(digits_y)):\n",
    "    match digits_y[i]:\n",
    "        case 0:\n",
    "            new_y.append([1., 0., 0., 0., 0., 0., 0., 0., 0., 0.])\n",
    "        case 1:\n",
    "            new_y.append([0., 1., 0., 0., 0., 0., 0., 0., 0., 0.])\n",
    "        case 2:\n",
    "            new_y.append([0., 0., 1., 0., 0., 0., 0., 0., 0., 0.])\n",
    "        case 3:\n",
    "            new_y.append([0., 0., 0., 1., 0., 0., 0., 0., 0., 0.])\n",
    "        case 4:\n",
    "            new_y.append([0., 0., 0., 0., 1., 0., 0., 0., 0., 0.])\n",
    "        case 5:\n",
    "            new_y.append([0., 0., 0., 0., 0., 1., 0., 0., 0., 0.])\n",
    "        case 6:\n",
    "            new_y.append([0., 0., 0., 0., 0., 0., 1., 0., 0., 0.])\n",
    "        case 7:\n",
    "            new_y.append([0., 0., 0., 0., 0., 0., 0., 1., 0., 0.])\n",
    "        case 8:\n",
    "            new_y.append([0., 0., 0., 0., 0., 0., 0., 0., 1., 0.])\n",
    "        case 9:\n",
    "            new_y.append([0., 0., 0., 0., 0., 0., 0., 0., 0., 1.])\n",
    "digits_y = new_y.copy()"
   ]
  },
  {
   "cell_type": "code",
   "execution_count": 10,
   "metadata": {},
   "outputs": [],
   "source": [
    "digits_X_train, digits_X_test, digits_y_train, digits_y_test = train_test_split(digits_X, digits_y, test_size=.2, random_state=8)"
   ]
  },
  {
   "cell_type": "code",
   "execution_count": 15,
   "metadata": {},
   "outputs": [],
   "source": [
    "digits_NN = Neuron_network(64, [16, 16, 10])"
   ]
  },
  {
   "cell_type": "code",
   "execution_count": 18,
   "metadata": {},
   "outputs": [
    {
     "name": "stderr",
     "output_type": "stream",
     "text": [
      "Progress: 100%|██████████| 500/500 [07:48<00:00,  1.07 epoch/s]"
     ]
    },
    {
     "name": "stdout",
     "output_type": "stream",
     "text": [
      "MSE:\t0.0003416990297338535\n",
      "Accuracy:\t0.7041767571329158\n"
     ]
    },
    {
     "name": "stderr",
     "output_type": "stream",
     "text": [
      "\n"
     ]
    }
   ],
   "source": [
    "digits_NN.train(digits_X_train, digits_y_train, 500)"
   ]
  },
  {
   "cell_type": "code",
   "execution_count": 19,
   "metadata": {},
   "outputs": [
    {
     "name": "stdout",
     "output_type": "stream",
     "text": [
      "MSE:\t0.0001483540881859581\n",
      "Accuracy:\t0.7111111111111111\n"
     ]
    }
   ],
   "source": [
    "digits_NN.evaluate(digits_X_test, digits_y_test)"
   ]
  },
  {
   "cell_type": "code",
   "execution_count": null,
   "metadata": {},
   "outputs": [],
   "source": []
  }
 ],
 "metadata": {
  "interpreter": {
   "hash": "e7370f93d1d0cde622a1f8e1c04877d8463912d04d973331ad4851f04de6915a"
  },
  "kernelspec": {
   "display_name": "Python 3.10.2 64-bit",
   "language": "python",
   "name": "python3"
  },
  "language_info": {
   "codemirror_mode": {
    "name": "ipython",
    "version": 3
   },
   "file_extension": ".py",
   "mimetype": "text/x-python",
   "name": "python",
   "nbconvert_exporter": "python",
   "pygments_lexer": "ipython3",
   "version": "3.10.2"
  },
  "orig_nbformat": 4
 },
 "nbformat": 4,
 "nbformat_minor": 2
}
